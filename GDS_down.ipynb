{
  "cells": [
    {
      "cell_type": "markdown",
      "metadata": {
        "id": "view-in-github",
        "colab_type": "text"
      },
      "source": [
        "<a href=\"https://colab.research.google.com/github/HuaInZu/easy-stable-diffusion-goormide/blob/main/GDS_down.ipynb\" target=\"_parent\"><img src=\"https://colab.research.google.com/assets/colab-badge.svg\" alt=\"Open In Colab\"/></a>"
      ]
    },
    {
      "cell_type": "markdown",
      "id": "8bc0ab23",
      "metadata": {
        "id": "8bc0ab23"
      },
      "source": [
        "## <font color=\"blue\">구글드라이브 파일 다운로더 사용법</font>\n",
        "첫 사용시 터미널에\n",
        "<br>python3 -m pip install gdown\n",
        "<br>작성하여 <font color=\"red\">**gdown 설치 필수**</font>\n",
        "<br>\n",
        "<br>**url=''**의 ''에 다운받을 구글드라이브 공유 주소를 넣어준다. id만 넣어도 되고, 링크를 넣어도 되고, 뒤에 usp=share 부분이 들어가도 상관없다.\n",
        "<br>폴더 공유 링크도 적용 가능하며 최대 50개 파일까지만 가능하다. 폴더 다운로드시 프로젝트 파일에 그대로 들어온다.\n",
        "<br>\n",
        "<br>**f_name=''**의 ''에 파일 이름을 넣어준다. 뒤에 확장자까지 작성해두자.\n",
        "<br>\n",
        "<br>**sort=''**의 ''에 파일 종류 작성시 해당 파일을 들어가야할 위치에 넣는다. 종류는 다음과 같다.\n",
        "<br>**embeddings** - 임베딩 파일(킬로단위 저용량 .pt)\n",
        "<br>**hypernetworks** - 하이퍼 네크워크 파일(메가or기가단위 중~고용량 .pt)\n",
        "<br>**VAE** - VAE파일(메가단위 중용량 .pt)\n",
        "<br>**model** - 모델(기가단위 고용량 .ckpt 혹은 .safetensors)\n",
        "<br>**yaml** - yaml파일(킬로단위 저용량 .yaml)\n",
        "<br>위 종류를 작성시 해당하는 폴더에 자동으로 들어가며, 그 외의 경우는 기본폴더에 들어간다.\n",
        "<br>[파일 종류 설명 아카라이브 게시글](https://arca.live/b/aiart/66582124)\n",
        "<br>\n",
        "<br>**base='SD'**는 기본폴더로 원클릭 구름IDE 사용시 건들지 않으며, 그 외에 직접설치한 경우는 'stable-diffusion-webui' 등 기본 폴더명으로 변경한다.\n",
        "<br>\n",
        "<br>작성이 끝나면 해당 셀 선택 후 상단의 **▶Run** 을 눌러 동작시킨다.\n",
        "<br>\n",
        "<br><font color=\"orange\">아래와 같은 오류 발생시, 이는 해당 파일 접근권한이 **'링크가 있는 모든 사용자'**가 아닌 경우이므로 구글드라이브에서 접근권한을 수정하면 된다.\n",
        "<br>Failed to retrieve folder contents:\n",
        "<br> \tCannot retrieve the folder information from the link. You may need to\n",
        "<br>\tchange the permission to 'Anyone with the link'.</font>"
      ]
    },
    {
      "cell_type": "code",
      "execution_count": null,
      "id": "83954ce4",
      "metadata": {
        "id": "83954ce4",
        "outputId": "e4c6bb59-a8c2-4bed-b0af-a2cccc0ec41d"
      },
      "outputs": [
        {
          "name": "stdout",
          "output_type": "stream",
          "text": [
            "폴더를 다운로드합니다.\n",
            "폴더 다운로드 시도 종료.\n"
          ]
        }
      ],
      "source": [
        "import gdown\n",
        "import os\n",
        "\n",
        "## 주요 정보 입력\n",
        "# 구글 드라이브 공유 링크(필수기재)\n",
        "url = \"\"\n",
        "# 다운 파일 명(필수기재)\n",
        "f_name = \"\"\n",
        "# 파일 종류\n",
        "# embeddings / hypernetworks / VAE / model / yaml / LORA\n",
        "sort = \"\"\n",
        "# 기본폴더\n",
        "base = \"SD/repository\"\n",
        "\n",
        "\n",
        "## 동작코드\n",
        "# id만 기재 / usp=share 기재 / 폴더 확인용 플래그 선언\n",
        "u_id = False\n",
        "fuzzy = False\n",
        "u_folder = False\n",
        "\n",
        "# id만 작성한 경우 확인\n",
        "if len(url) < 40:\n",
        "    u_id = True\n",
        "# 주소 뒷부분 쉐어링 같이 들어간 경우\n",
        "if url.find('usp=shar') != -1:\n",
        "    fuzzy = True\n",
        "# 폴더 가져오는 경우\n",
        "if url.find('folders') != -1:\n",
        "    u_folder = True\n",
        "\n",
        "# 파일 종류에 따른 위치 확인 및 폴더 생성\n",
        "if sort == 'embeddings': # 임베딩\n",
        "    loc = 'embeddings/'\n",
        "    os.makedirs(base+\"/embeddings\", exist_ok=True)\n",
        "elif sort == 'hypernetworks': # 하이퍼네트워크\n",
        "    loc = 'models/hypernetworks/'\n",
        "    os.makedirs(base+\"/models/hypernetworks\", exist_ok=True)\n",
        "elif sort == 'VAE': # VAE\n",
        "    loc = 'models/VAE/'\n",
        "    os.makedirs(base+\"/models/VAE\", exist_ok=True)\n",
        "elif sort == 'model' or sort == 'yaml': # 모델 및 yaml\n",
        "    loc = 'models/Stable-diffusion/'\n",
        "    os.makedirs(base+\"/models/Stable-diffusion\", exist_ok=True)\n",
        "elif sort == 'LORA': # LORA\n",
        "    loc = 'models/Lora/'\n",
        "    os.makedirs(base+\"/models/Lora\", exist_ok=True)\n",
        "else:\n",
        "    loc = ''\n",
        "\n",
        "# 경로에 따른 출력경로 및 이름 지정\n",
        "output = base + '/' + loc + f_name\n",
        "\n",
        "# 조건에 따라 다운로드 진행\n",
        "if u_folder == False:\n",
        "    if u_id == False:\n",
        "        print(f'{output}을 다운로드합니다.')\n",
        "        gdown.download(url=url, output=output, quiet=False, fuzzy=fuzzy)\n",
        "    elif u_id == True:\n",
        "        print(f'{output}을 다운로드합니다.')\n",
        "        gdown.download(id=url, output=output, quiet=False)\n",
        "elif u_folder == True:\n",
        "    print('폴더를 다운로드합니다.')\n",
        "    gdown.download_folder(url, quiet=True, use_cookies=False)\n",
        "    print('폴더 다운로드 시도 종료.')\n",
        "else:\n",
        "    print('오류 발생')"
      ]
    },
    {
      "cell_type": "markdown",
      "id": "7e3da7d3",
      "metadata": {
        "id": "7e3da7d3"
      },
      "source": [
        "## <font color=\"blue\">Wget 파일 다운로더 사용법</font>\n",
        "원클릭 구름IDE을 사용하지 않았을 경우 첫 사용시 터미널에\n",
        "<br>pip install wget\n",
        "<br>작성하여 <font color=\"red\">**wget 설치 필수**</font>\n",
        "<br>구글드라이브 링크는 이 방식으로는 동작하지 않으므로 상단의 방법 이용 필요\n",
        "<br>\n",
        "<br>**url=''**의 ''에 다운로드 링크를 작성한다.\n",
        "<br>\n",
        "<br>**f_name='', sort='', base='SD'** 상단의 구글 드라이브 파일 다운로더와 동일\n",
        "<br>\n",
        "<br>작성이 끝나면 해당 셀 선택 후 상단의 **▶Run** 을 눌러 동작시킨다.\n",
        "<br>\n",
        "<br>07/23허깅페이스 private 파일 다운을 위한 토큰 작성부분 추가"
      ]
    },
    {
      "cell_type": "code",
      "execution_count": null,
      "id": "c2980ac3",
      "metadata": {
        "id": "c2980ac3",
        "outputId": "fdb7c287-7339-42c3-d3cc-8ccad41aeeed"
      },
      "outputs": [
        {
          "name": "stdout",
          "output_type": "stream",
          "text": [
            "SD/models/VAE/test.png을 다운로드합니다.\n",
            "SD/models/VAE/test.png 다운로드 완료.\n"
          ]
        }
      ],
      "source": [
        "import wget\n",
        "import os\n",
        "\n",
        "## 주요 정보 입력\n",
        "# 다운로드 링크(필수기재)\n",
        "url = \"\"\n",
        "# 다운 파일 명(필수기재)\n",
        "f_name = \"\"\n",
        "# 파일 종류\n",
        "# embeddings / hypernetworks / VAE / model / yaml / LORA\n",
        "sort = \"\"\n",
        "# 기본폴더\n",
        "base = \"SD/repository\"\n",
        "# 허깅페이스 private 모델 다운시 필요한 Access Tokens, 관련 없으면 미작성\n",
        "hf_token = \"\"\n",
        "\n",
        "## 동작코드\n",
        "# 파일 종류에 따른 위치 확인 및 폴더 생성\n",
        "if sort == 'embeddings': # 임베딩\n",
        "    loc = 'embeddings/'\n",
        "    os.makedirs(base+\"/embeddings\", exist_ok=True)\n",
        "elif sort == 'hypernetworks': # 하이퍼네트워크\n",
        "    loc = 'models/hypernetworks/'\n",
        "    os.makedirs(base+\"/models/hypernetworks\", exist_ok=True)\n",
        "elif sort == 'VAE': # VAE\n",
        "    loc = 'models/VAE/'\n",
        "    os.makedirs(base+\"/models/VAE\", exist_ok=True)\n",
        "elif sort == 'model' or sort == 'yaml': # 모델 및 yaml\n",
        "    loc = 'models/Stable-diffusion/'\n",
        "    os.makedirs(base+\"/models/Stable-diffusion\", exist_ok=True)\n",
        "elif sort == 'LORA': # LORA\n",
        "    loc = 'models/Lora/'\n",
        "    os.makedirs(base+\"/models/Lora\", exist_ok=True)\n",
        "elif sort == 'Lyco': # LoHA/LoCon\n",
        "    loc = 'models/LyCORIS/'\n",
        "    os.makedirs(base+\"/models/Lora\", exist_ok=True)\n",
        "\n",
        "else:\n",
        "    loc = ''\n",
        "\n",
        "\n",
        "output = base + '/' + loc + f_name\n",
        "\n",
        "# 다운로드 수행\n",
        "print(f'{output}을 다운로드합니다.')\n",
        "if hf_token != \"\":\n",
        "    user_header = f\"\\\"Authorization: Bearer {hf_token}\\\"\"\n",
        "    ! wget {url} -O {output} --header {user_header}\n",
        "else:\n",
        "    ! wget {url} -O {output}\n",
        "print('다운로드 완료.')"
      ]
    },
    {
      "cell_type": "code",
      "execution_count": null,
      "id": "02fca045",
      "metadata": {
        "id": "02fca045"
      },
      "outputs": [],
      "source": []
    }
  ],
  "metadata": {
    "kernelspec": {
      "display_name": "Python 3 (ipykernel)",
      "language": "python",
      "name": "python3"
    },
    "language_info": {
      "codemirror_mode": {
        "name": "ipython",
        "version": 3
      },
      "file_extension": ".py",
      "mimetype": "text/x-python",
      "name": "python",
      "nbconvert_exporter": "python",
      "pygments_lexer": "ipython3",
      "version": "3.8.10"
    },
    "colab": {
      "provenance": [],
      "include_colab_link": true
    }
  },
  "nbformat": 4,
  "nbformat_minor": 5
}